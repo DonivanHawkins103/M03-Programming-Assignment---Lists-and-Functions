{
 "cells": [
  {
   "cell_type": "code",
   "execution_count": null,
   "id": "30e2f912-15f1-41f1-85fb-21f27c0ed69a",
   "metadata": {},
   "outputs": [],
   "source": [
    "def get_odds():\n",
    "    for x in range(10):\n",
    "        if x % 2 != 0:  # Check if x is odd\n",
    "            yield x\n",
    "\n"
   ]
  }
 ],
 "metadata": {
  "kernelspec": {
   "display_name": "Python 3 (ipykernel)",
   "language": "python",
   "name": "python3"
  },
  "language_info": {
   "codemirror_mode": {
    "name": "ipython",
    "version": 3
   },
   "file_extension": ".py",
   "mimetype": "text/x-python",
   "name": "python",
   "nbconvert_exporter": "python",
   "pygments_lexer": "ipython3",
   "version": "3.11.7"
  }
 },
 "nbformat": 4,
 "nbformat_minor": 5
}
